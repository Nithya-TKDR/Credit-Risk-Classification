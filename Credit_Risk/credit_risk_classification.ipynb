{
 "cells": [
  {
   "cell_type": "code",
   "execution_count": 5,
   "metadata": {},
   "outputs": [],
   "source": [
    "# Import the modules and the required dependencies\n",
    "import numpy as np\n",
    "import pandas as pd\n",
    "from pathlib import Path\n",
    "from sklearn.metrics import confusion_matrix, classification_report\n",
    "\n",
    "# Supress Warnings\n",
    "import warnings\n",
    "warnings.simplefilter(action = \"ignore\")"
   ]
  },
  {
   "cell_type": "markdown",
   "metadata": {},
   "source": [
    "## Split the Data into Training and Testing Sets"
   ]
  },
  {
   "cell_type": "markdown",
   "metadata": {},
   "source": [
    "### Step 1: Read the `lending_data.csv` data from the `Credit Risk` folder into a Pandas DataFrame."
   ]
  },
  {
   "cell_type": "code",
   "execution_count": 6,
   "metadata": {},
   "outputs": [
    {
     "data": {
      "text/html": [
       "<style type=\"text/css\">\n",
       "#T_96a76 th.col_heading {\n",
       "  background-color: bisque;\n",
       "}\n",
       "</style>\n",
       "<table id=\"T_96a76\">\n",
       "  <thead>\n",
       "    <tr>\n",
       "      <th id=\"T_96a76_level0_col0\" class=\"col_heading level0 col0\" >loan_size</th>\n",
       "      <th id=\"T_96a76_level0_col1\" class=\"col_heading level0 col1\" >interest_rate</th>\n",
       "      <th id=\"T_96a76_level0_col2\" class=\"col_heading level0 col2\" >borrower_income</th>\n",
       "      <th id=\"T_96a76_level0_col3\" class=\"col_heading level0 col3\" >debt_to_income</th>\n",
       "      <th id=\"T_96a76_level0_col4\" class=\"col_heading level0 col4\" >num_of_accounts</th>\n",
       "      <th id=\"T_96a76_level0_col5\" class=\"col_heading level0 col5\" >derogatory_marks</th>\n",
       "      <th id=\"T_96a76_level0_col6\" class=\"col_heading level0 col6\" >total_debt</th>\n",
       "      <th id=\"T_96a76_level0_col7\" class=\"col_heading level0 col7\" >loan_status</th>\n",
       "    </tr>\n",
       "  </thead>\n",
       "  <tbody>\n",
       "    <tr>\n",
       "      <td id=\"T_96a76_row0_col0\" class=\"data row0 col0\" >10700.000000</td>\n",
       "      <td id=\"T_96a76_row0_col1\" class=\"data row0 col1\" >7.672000</td>\n",
       "      <td id=\"T_96a76_row0_col2\" class=\"data row0 col2\" >52800</td>\n",
       "      <td id=\"T_96a76_row0_col3\" class=\"data row0 col3\" >0.431818</td>\n",
       "      <td id=\"T_96a76_row0_col4\" class=\"data row0 col4\" >5</td>\n",
       "      <td id=\"T_96a76_row0_col5\" class=\"data row0 col5\" >1</td>\n",
       "      <td id=\"T_96a76_row0_col6\" class=\"data row0 col6\" >22800</td>\n",
       "      <td id=\"T_96a76_row0_col7\" class=\"data row0 col7\" >0</td>\n",
       "    </tr>\n",
       "    <tr>\n",
       "      <td id=\"T_96a76_row1_col0\" class=\"data row1 col0\" >8400.000000</td>\n",
       "      <td id=\"T_96a76_row1_col1\" class=\"data row1 col1\" >6.692000</td>\n",
       "      <td id=\"T_96a76_row1_col2\" class=\"data row1 col2\" >43600</td>\n",
       "      <td id=\"T_96a76_row1_col3\" class=\"data row1 col3\" >0.311927</td>\n",
       "      <td id=\"T_96a76_row1_col4\" class=\"data row1 col4\" >3</td>\n",
       "      <td id=\"T_96a76_row1_col5\" class=\"data row1 col5\" >0</td>\n",
       "      <td id=\"T_96a76_row1_col6\" class=\"data row1 col6\" >13600</td>\n",
       "      <td id=\"T_96a76_row1_col7\" class=\"data row1 col7\" >0</td>\n",
       "    </tr>\n",
       "    <tr>\n",
       "      <td id=\"T_96a76_row2_col0\" class=\"data row2 col0\" >9000.000000</td>\n",
       "      <td id=\"T_96a76_row2_col1\" class=\"data row2 col1\" >6.963000</td>\n",
       "      <td id=\"T_96a76_row2_col2\" class=\"data row2 col2\" >46100</td>\n",
       "      <td id=\"T_96a76_row2_col3\" class=\"data row2 col3\" >0.349241</td>\n",
       "      <td id=\"T_96a76_row2_col4\" class=\"data row2 col4\" >3</td>\n",
       "      <td id=\"T_96a76_row2_col5\" class=\"data row2 col5\" >0</td>\n",
       "      <td id=\"T_96a76_row2_col6\" class=\"data row2 col6\" >16100</td>\n",
       "      <td id=\"T_96a76_row2_col7\" class=\"data row2 col7\" >0</td>\n",
       "    </tr>\n",
       "    <tr>\n",
       "      <td id=\"T_96a76_row3_col0\" class=\"data row3 col0\" >10700.000000</td>\n",
       "      <td id=\"T_96a76_row3_col1\" class=\"data row3 col1\" >7.664000</td>\n",
       "      <td id=\"T_96a76_row3_col2\" class=\"data row3 col2\" >52700</td>\n",
       "      <td id=\"T_96a76_row3_col3\" class=\"data row3 col3\" >0.430740</td>\n",
       "      <td id=\"T_96a76_row3_col4\" class=\"data row3 col4\" >5</td>\n",
       "      <td id=\"T_96a76_row3_col5\" class=\"data row3 col5\" >1</td>\n",
       "      <td id=\"T_96a76_row3_col6\" class=\"data row3 col6\" >22700</td>\n",
       "      <td id=\"T_96a76_row3_col7\" class=\"data row3 col7\" >0</td>\n",
       "    </tr>\n",
       "    <tr>\n",
       "      <td id=\"T_96a76_row4_col0\" class=\"data row4 col0\" >10800.000000</td>\n",
       "      <td id=\"T_96a76_row4_col1\" class=\"data row4 col1\" >7.698000</td>\n",
       "      <td id=\"T_96a76_row4_col2\" class=\"data row4 col2\" >53000</td>\n",
       "      <td id=\"T_96a76_row4_col3\" class=\"data row4 col3\" >0.433962</td>\n",
       "      <td id=\"T_96a76_row4_col4\" class=\"data row4 col4\" >5</td>\n",
       "      <td id=\"T_96a76_row4_col5\" class=\"data row4 col5\" >1</td>\n",
       "      <td id=\"T_96a76_row4_col6\" class=\"data row4 col6\" >23000</td>\n",
       "      <td id=\"T_96a76_row4_col7\" class=\"data row4 col7\" >0</td>\n",
       "    </tr>\n",
       "  </tbody>\n",
       "</table>\n"
      ],
      "text/plain": [
       "<pandas.io.formats.style.Styler at 0x150f43970>"
      ]
     },
     "execution_count": 6,
     "metadata": {},
     "output_type": "execute_result"
    }
   ],
   "source": [
    "# Read the CSV file from the Credit Risk folder into a Pandas DataFrame\n",
    "data = Path(\"./lending_data.csv\")\n",
    "df_lending_data = pd.read_csv(data)\n",
    "\n",
    "# Define a dictionary structure for header row styling\n",
    "df_header_row = {\n",
    "    'selector': 'th.col_heading',\n",
    "    'props': 'background-color: bisque;'\n",
    "}\n",
    "\n",
    "# Review the DataFrame and apply styling appropriately\n",
    "df_lending_data.head().style.hide().set_table_styles([df_header_row])"
   ]
  },
  {
   "cell_type": "markdown",
   "metadata": {},
   "source": [
    "### Step 2: Create the labels set (`y`)  from the “loan_status” column, and then create the features (`X`) DataFrame from the remaining columns."
   ]
  },
  {
   "cell_type": "code",
   "execution_count": 7,
   "metadata": {},
   "outputs": [],
   "source": [
    "# Separate the data into labels and features\n",
    "\n",
    "# Separate the y variable, the labels\n",
    "y = df_lending_data['loan_status']\n",
    "\n",
    "# Separate the X variable, the features\n",
    "X= df_lending_data.drop(columns=['loan_status'])"
   ]
  },
  {
   "cell_type": "code",
   "execution_count": 8,
   "metadata": {},
   "outputs": [
    {
     "data": {
      "text/plain": [
       "0    0\n",
       "1    0\n",
       "2    0\n",
       "3    0\n",
       "4    0\n",
       "Name: loan_status, dtype: int64"
      ]
     },
     "metadata": {},
     "output_type": "display_data"
    },
    {
     "data": {
      "text/plain": [
       "77531    1\n",
       "77532    1\n",
       "77533    1\n",
       "77534    1\n",
       "77535    1\n",
       "Name: loan_status, dtype: int64"
      ]
     },
     "metadata": {},
     "output_type": "display_data"
    }
   ],
   "source": [
    "# Review the y variable Series\n",
    "display(y.head())\n",
    "display(y.tail())"
   ]
  },
  {
   "cell_type": "code",
   "execution_count": 9,
   "metadata": {},
   "outputs": [
    {
     "data": {
      "text/html": [
       "<style type=\"text/css\">\n",
       "#T_108c9 th.col_heading {\n",
       "  background-color: bisque;\n",
       "}\n",
       "</style>\n",
       "<table id=\"T_108c9\">\n",
       "  <thead>\n",
       "    <tr>\n",
       "      <th id=\"T_108c9_level0_col0\" class=\"col_heading level0 col0\" >loan_size</th>\n",
       "      <th id=\"T_108c9_level0_col1\" class=\"col_heading level0 col1\" >interest_rate</th>\n",
       "      <th id=\"T_108c9_level0_col2\" class=\"col_heading level0 col2\" >borrower_income</th>\n",
       "      <th id=\"T_108c9_level0_col3\" class=\"col_heading level0 col3\" >debt_to_income</th>\n",
       "      <th id=\"T_108c9_level0_col4\" class=\"col_heading level0 col4\" >num_of_accounts</th>\n",
       "      <th id=\"T_108c9_level0_col5\" class=\"col_heading level0 col5\" >derogatory_marks</th>\n",
       "      <th id=\"T_108c9_level0_col6\" class=\"col_heading level0 col6\" >total_debt</th>\n",
       "    </tr>\n",
       "  </thead>\n",
       "  <tbody>\n",
       "    <tr>\n",
       "      <td id=\"T_108c9_row0_col0\" class=\"data row0 col0\" >10700.000000</td>\n",
       "      <td id=\"T_108c9_row0_col1\" class=\"data row0 col1\" >7.672000</td>\n",
       "      <td id=\"T_108c9_row0_col2\" class=\"data row0 col2\" >52800</td>\n",
       "      <td id=\"T_108c9_row0_col3\" class=\"data row0 col3\" >0.431818</td>\n",
       "      <td id=\"T_108c9_row0_col4\" class=\"data row0 col4\" >5</td>\n",
       "      <td id=\"T_108c9_row0_col5\" class=\"data row0 col5\" >1</td>\n",
       "      <td id=\"T_108c9_row0_col6\" class=\"data row0 col6\" >22800</td>\n",
       "    </tr>\n",
       "    <tr>\n",
       "      <td id=\"T_108c9_row1_col0\" class=\"data row1 col0\" >8400.000000</td>\n",
       "      <td id=\"T_108c9_row1_col1\" class=\"data row1 col1\" >6.692000</td>\n",
       "      <td id=\"T_108c9_row1_col2\" class=\"data row1 col2\" >43600</td>\n",
       "      <td id=\"T_108c9_row1_col3\" class=\"data row1 col3\" >0.311927</td>\n",
       "      <td id=\"T_108c9_row1_col4\" class=\"data row1 col4\" >3</td>\n",
       "      <td id=\"T_108c9_row1_col5\" class=\"data row1 col5\" >0</td>\n",
       "      <td id=\"T_108c9_row1_col6\" class=\"data row1 col6\" >13600</td>\n",
       "    </tr>\n",
       "    <tr>\n",
       "      <td id=\"T_108c9_row2_col0\" class=\"data row2 col0\" >9000.000000</td>\n",
       "      <td id=\"T_108c9_row2_col1\" class=\"data row2 col1\" >6.963000</td>\n",
       "      <td id=\"T_108c9_row2_col2\" class=\"data row2 col2\" >46100</td>\n",
       "      <td id=\"T_108c9_row2_col3\" class=\"data row2 col3\" >0.349241</td>\n",
       "      <td id=\"T_108c9_row2_col4\" class=\"data row2 col4\" >3</td>\n",
       "      <td id=\"T_108c9_row2_col5\" class=\"data row2 col5\" >0</td>\n",
       "      <td id=\"T_108c9_row2_col6\" class=\"data row2 col6\" >16100</td>\n",
       "    </tr>\n",
       "    <tr>\n",
       "      <td id=\"T_108c9_row3_col0\" class=\"data row3 col0\" >10700.000000</td>\n",
       "      <td id=\"T_108c9_row3_col1\" class=\"data row3 col1\" >7.664000</td>\n",
       "      <td id=\"T_108c9_row3_col2\" class=\"data row3 col2\" >52700</td>\n",
       "      <td id=\"T_108c9_row3_col3\" class=\"data row3 col3\" >0.430740</td>\n",
       "      <td id=\"T_108c9_row3_col4\" class=\"data row3 col4\" >5</td>\n",
       "      <td id=\"T_108c9_row3_col5\" class=\"data row3 col5\" >1</td>\n",
       "      <td id=\"T_108c9_row3_col6\" class=\"data row3 col6\" >22700</td>\n",
       "    </tr>\n",
       "    <tr>\n",
       "      <td id=\"T_108c9_row4_col0\" class=\"data row4 col0\" >10800.000000</td>\n",
       "      <td id=\"T_108c9_row4_col1\" class=\"data row4 col1\" >7.698000</td>\n",
       "      <td id=\"T_108c9_row4_col2\" class=\"data row4 col2\" >53000</td>\n",
       "      <td id=\"T_108c9_row4_col3\" class=\"data row4 col3\" >0.433962</td>\n",
       "      <td id=\"T_108c9_row4_col4\" class=\"data row4 col4\" >5</td>\n",
       "      <td id=\"T_108c9_row4_col5\" class=\"data row4 col5\" >1</td>\n",
       "      <td id=\"T_108c9_row4_col6\" class=\"data row4 col6\" >23000</td>\n",
       "    </tr>\n",
       "  </tbody>\n",
       "</table>\n"
      ],
      "text/plain": [
       "<pandas.io.formats.style.Styler at 0x1544d1f60>"
      ]
     },
     "metadata": {},
     "output_type": "display_data"
    },
    {
     "data": {
      "text/html": [
       "<style type=\"text/css\">\n",
       "#T_9e978 th.col_heading {\n",
       "  background-color: bisque;\n",
       "}\n",
       "</style>\n",
       "<table id=\"T_9e978\">\n",
       "  <thead>\n",
       "    <tr>\n",
       "      <th id=\"T_9e978_level0_col0\" class=\"col_heading level0 col0\" >loan_size</th>\n",
       "      <th id=\"T_9e978_level0_col1\" class=\"col_heading level0 col1\" >interest_rate</th>\n",
       "      <th id=\"T_9e978_level0_col2\" class=\"col_heading level0 col2\" >borrower_income</th>\n",
       "      <th id=\"T_9e978_level0_col3\" class=\"col_heading level0 col3\" >debt_to_income</th>\n",
       "      <th id=\"T_9e978_level0_col4\" class=\"col_heading level0 col4\" >num_of_accounts</th>\n",
       "      <th id=\"T_9e978_level0_col5\" class=\"col_heading level0 col5\" >derogatory_marks</th>\n",
       "      <th id=\"T_9e978_level0_col6\" class=\"col_heading level0 col6\" >total_debt</th>\n",
       "    </tr>\n",
       "  </thead>\n",
       "  <tbody>\n",
       "    <tr>\n",
       "      <td id=\"T_9e978_row0_col0\" class=\"data row0 col0\" >19100.000000</td>\n",
       "      <td id=\"T_9e978_row0_col1\" class=\"data row0 col1\" >11.261000</td>\n",
       "      <td id=\"T_9e978_row0_col2\" class=\"data row0 col2\" >86600</td>\n",
       "      <td id=\"T_9e978_row0_col3\" class=\"data row0 col3\" >0.653580</td>\n",
       "      <td id=\"T_9e978_row0_col4\" class=\"data row0 col4\" >12</td>\n",
       "      <td id=\"T_9e978_row0_col5\" class=\"data row0 col5\" >2</td>\n",
       "      <td id=\"T_9e978_row0_col6\" class=\"data row0 col6\" >56600</td>\n",
       "    </tr>\n",
       "    <tr>\n",
       "      <td id=\"T_9e978_row1_col0\" class=\"data row1 col0\" >17700.000000</td>\n",
       "      <td id=\"T_9e978_row1_col1\" class=\"data row1 col1\" >10.662000</td>\n",
       "      <td id=\"T_9e978_row1_col2\" class=\"data row1 col2\" >80900</td>\n",
       "      <td id=\"T_9e978_row1_col3\" class=\"data row1 col3\" >0.629172</td>\n",
       "      <td id=\"T_9e978_row1_col4\" class=\"data row1 col4\" >11</td>\n",
       "      <td id=\"T_9e978_row1_col5\" class=\"data row1 col5\" >2</td>\n",
       "      <td id=\"T_9e978_row1_col6\" class=\"data row1 col6\" >50900</td>\n",
       "    </tr>\n",
       "    <tr>\n",
       "      <td id=\"T_9e978_row2_col0\" class=\"data row2 col0\" >17600.000000</td>\n",
       "      <td id=\"T_9e978_row2_col1\" class=\"data row2 col1\" >10.595000</td>\n",
       "      <td id=\"T_9e978_row2_col2\" class=\"data row2 col2\" >80300</td>\n",
       "      <td id=\"T_9e978_row2_col3\" class=\"data row2 col3\" >0.626401</td>\n",
       "      <td id=\"T_9e978_row2_col4\" class=\"data row2 col4\" >11</td>\n",
       "      <td id=\"T_9e978_row2_col5\" class=\"data row2 col5\" >2</td>\n",
       "      <td id=\"T_9e978_row2_col6\" class=\"data row2 col6\" >50300</td>\n",
       "    </tr>\n",
       "    <tr>\n",
       "      <td id=\"T_9e978_row3_col0\" class=\"data row3 col0\" >16300.000000</td>\n",
       "      <td id=\"T_9e978_row3_col1\" class=\"data row3 col1\" >10.068000</td>\n",
       "      <td id=\"T_9e978_row3_col2\" class=\"data row3 col2\" >75300</td>\n",
       "      <td id=\"T_9e978_row3_col3\" class=\"data row3 col3\" >0.601594</td>\n",
       "      <td id=\"T_9e978_row3_col4\" class=\"data row3 col4\" >10</td>\n",
       "      <td id=\"T_9e978_row3_col5\" class=\"data row3 col5\" >2</td>\n",
       "      <td id=\"T_9e978_row3_col6\" class=\"data row3 col6\" >45300</td>\n",
       "    </tr>\n",
       "    <tr>\n",
       "      <td id=\"T_9e978_row4_col0\" class=\"data row4 col0\" >15600.000000</td>\n",
       "      <td id=\"T_9e978_row4_col1\" class=\"data row4 col1\" >9.742000</td>\n",
       "      <td id=\"T_9e978_row4_col2\" class=\"data row4 col2\" >72300</td>\n",
       "      <td id=\"T_9e978_row4_col3\" class=\"data row4 col3\" >0.585062</td>\n",
       "      <td id=\"T_9e978_row4_col4\" class=\"data row4 col4\" >9</td>\n",
       "      <td id=\"T_9e978_row4_col5\" class=\"data row4 col5\" >2</td>\n",
       "      <td id=\"T_9e978_row4_col6\" class=\"data row4 col6\" >42300</td>\n",
       "    </tr>\n",
       "  </tbody>\n",
       "</table>\n"
      ],
      "text/plain": [
       "<pandas.io.formats.style.Styler at 0x150f43880>"
      ]
     },
     "metadata": {},
     "output_type": "display_data"
    }
   ],
   "source": [
    "# Review the X variable DataFrame and apply styling appropriately\n",
    "display(X.head().style.hide().set_table_styles([df_header_row]))\n",
    "display(X.tail().style.hide().set_table_styles([df_header_row]))"
   ]
  },
  {
   "cell_type": "markdown",
   "metadata": {},
   "source": [
    "### Step 3: Split the data into training and testing datasets by using `train_test_split`."
   ]
  },
  {
   "cell_type": "code",
   "execution_count": 10,
   "metadata": {},
   "outputs": [],
   "source": [
    "# Import the train_test_learn module\n",
    "from sklearn.model_selection import train_test_split\n",
    "\n",
    "# Split the data using train_test_split\n",
    "# Assign a random_state of 1 to the function\n",
    "X_train, X_test, y_train, y_test = train_test_split(X, y, random_state=1, stratify=y)"
   ]
  },
  {
   "cell_type": "markdown",
   "metadata": {},
   "source": [
    "## Create a Logistic Regression Model with the Original Data"
   ]
  },
  {
   "cell_type": "markdown",
   "metadata": {},
   "source": [
    "###  Step 1: Fit a logistic regression model by using the training data (`X_train` and `y_train`)."
   ]
  },
  {
   "cell_type": "code",
   "execution_count": 11,
   "metadata": {},
   "outputs": [
    {
     "data": {
      "text/plain": [
       "loan_status\n",
       "0    75036\n",
       "1     2500\n",
       "Name: count, dtype: int64"
      ]
     },
     "execution_count": 11,
     "metadata": {},
     "output_type": "execute_result"
    }
   ],
   "source": [
    "# Check the balance of our target values\n",
    "y.value_counts()"
   ]
  },
  {
   "cell_type": "code",
   "execution_count": 12,
   "metadata": {},
   "outputs": [
    {
     "data": {
      "text/html": [
       "<style>#sk-container-id-1 {color: black;}#sk-container-id-1 pre{padding: 0;}#sk-container-id-1 div.sk-toggleable {background-color: white;}#sk-container-id-1 label.sk-toggleable__label {cursor: pointer;display: block;width: 100%;margin-bottom: 0;padding: 0.3em;box-sizing: border-box;text-align: center;}#sk-container-id-1 label.sk-toggleable__label-arrow:before {content: \"▸\";float: left;margin-right: 0.25em;color: #696969;}#sk-container-id-1 label.sk-toggleable__label-arrow:hover:before {color: black;}#sk-container-id-1 div.sk-estimator:hover label.sk-toggleable__label-arrow:before {color: black;}#sk-container-id-1 div.sk-toggleable__content {max-height: 0;max-width: 0;overflow: hidden;text-align: left;background-color: #f0f8ff;}#sk-container-id-1 div.sk-toggleable__content pre {margin: 0.2em;color: black;border-radius: 0.25em;background-color: #f0f8ff;}#sk-container-id-1 input.sk-toggleable__control:checked~div.sk-toggleable__content {max-height: 200px;max-width: 100%;overflow: auto;}#sk-container-id-1 input.sk-toggleable__control:checked~label.sk-toggleable__label-arrow:before {content: \"▾\";}#sk-container-id-1 div.sk-estimator input.sk-toggleable__control:checked~label.sk-toggleable__label {background-color: #d4ebff;}#sk-container-id-1 div.sk-label input.sk-toggleable__control:checked~label.sk-toggleable__label {background-color: #d4ebff;}#sk-container-id-1 input.sk-hidden--visually {border: 0;clip: rect(1px 1px 1px 1px);clip: rect(1px, 1px, 1px, 1px);height: 1px;margin: -1px;overflow: hidden;padding: 0;position: absolute;width: 1px;}#sk-container-id-1 div.sk-estimator {font-family: monospace;background-color: #f0f8ff;border: 1px dotted black;border-radius: 0.25em;box-sizing: border-box;margin-bottom: 0.5em;}#sk-container-id-1 div.sk-estimator:hover {background-color: #d4ebff;}#sk-container-id-1 div.sk-parallel-item::after {content: \"\";width: 100%;border-bottom: 1px solid gray;flex-grow: 1;}#sk-container-id-1 div.sk-label:hover label.sk-toggleable__label {background-color: #d4ebff;}#sk-container-id-1 div.sk-serial::before {content: \"\";position: absolute;border-left: 1px solid gray;box-sizing: border-box;top: 0;bottom: 0;left: 50%;z-index: 0;}#sk-container-id-1 div.sk-serial {display: flex;flex-direction: column;align-items: center;background-color: white;padding-right: 0.2em;padding-left: 0.2em;position: relative;}#sk-container-id-1 div.sk-item {position: relative;z-index: 1;}#sk-container-id-1 div.sk-parallel {display: flex;align-items: stretch;justify-content: center;background-color: white;position: relative;}#sk-container-id-1 div.sk-item::before, #sk-container-id-1 div.sk-parallel-item::before {content: \"\";position: absolute;border-left: 1px solid gray;box-sizing: border-box;top: 0;bottom: 0;left: 50%;z-index: -1;}#sk-container-id-1 div.sk-parallel-item {display: flex;flex-direction: column;z-index: 1;position: relative;background-color: white;}#sk-container-id-1 div.sk-parallel-item:first-child::after {align-self: flex-end;width: 50%;}#sk-container-id-1 div.sk-parallel-item:last-child::after {align-self: flex-start;width: 50%;}#sk-container-id-1 div.sk-parallel-item:only-child::after {width: 0;}#sk-container-id-1 div.sk-dashed-wrapped {border: 1px dashed gray;margin: 0 0.4em 0.5em 0.4em;box-sizing: border-box;padding-bottom: 0.4em;background-color: white;}#sk-container-id-1 div.sk-label label {font-family: monospace;font-weight: bold;display: inline-block;line-height: 1.2em;}#sk-container-id-1 div.sk-label-container {text-align: center;}#sk-container-id-1 div.sk-container {/* jupyter's `normalize.less` sets `[hidden] { display: none; }` but bootstrap.min.css set `[hidden] { display: none !important; }` so we also need the `!important` here to be able to override the default hidden behavior on the sphinx rendered scikit-learn.org. See: https://github.com/scikit-learn/scikit-learn/issues/21755 */display: inline-block !important;position: relative;}#sk-container-id-1 div.sk-text-repr-fallback {display: none;}</style><div id=\"sk-container-id-1\" class=\"sk-top-container\"><div class=\"sk-text-repr-fallback\"><pre>LogisticRegression(max_iter=200, random_state=1)</pre><b>In a Jupyter environment, please rerun this cell to show the HTML representation or trust the notebook. <br />On GitHub, the HTML representation is unable to render, please try loading this page with nbviewer.org.</b></div><div class=\"sk-container\" hidden><div class=\"sk-item\"><div class=\"sk-estimator sk-toggleable\"><input class=\"sk-toggleable__control sk-hidden--visually\" id=\"sk-estimator-id-1\" type=\"checkbox\" checked><label for=\"sk-estimator-id-1\" class=\"sk-toggleable__label sk-toggleable__label-arrow\">LogisticRegression</label><div class=\"sk-toggleable__content\"><pre>LogisticRegression(max_iter=200, random_state=1)</pre></div></div></div></div></div>"
      ],
      "text/plain": [
       "LogisticRegression(max_iter=200, random_state=1)"
      ]
     },
     "execution_count": 12,
     "metadata": {},
     "output_type": "execute_result"
    }
   ],
   "source": [
    "# Import the LogisticRegression module from SKLearn\n",
    "from sklearn.linear_model import LogisticRegression\n",
    "\n",
    "# Instantiate the Logistic Regression model\n",
    "# Assign a random_state parameter of 1 to the model\n",
    "logistic_regression_model = LogisticRegression(solver='lbfgs',max_iter=200,random_state=1)\n",
    "\n",
    "# Fit the model using training data\n",
    "logistic_regression_model.fit(X_train, y_train)"
   ]
  },
  {
   "cell_type": "markdown",
   "metadata": {},
   "source": [
    "### Step 2: Save predictions on testing data labels by using testing feature data (`X_test`) and the fitted model."
   ]
  },
  {
   "cell_type": "code",
   "execution_count": 13,
   "metadata": {},
   "outputs": [
    {
     "data": {
      "text/html": [
       "<style type=\"text/css\">\n",
       "#T_36bdf th.col_heading {\n",
       "  background-color: bisque;\n",
       "}\n",
       "</style>\n",
       "<table id=\"T_36bdf\">\n",
       "  <thead>\n",
       "    <tr>\n",
       "      <th id=\"T_36bdf_level0_col0\" class=\"col_heading level0 col0\" >Prediction</th>\n",
       "      <th id=\"T_36bdf_level0_col1\" class=\"col_heading level0 col1\" >Actual</th>\n",
       "    </tr>\n",
       "  </thead>\n",
       "  <tbody>\n",
       "    <tr>\n",
       "      <td id=\"T_36bdf_row0_col0\" class=\"data row0 col0\" >0</td>\n",
       "      <td id=\"T_36bdf_row0_col1\" class=\"data row0 col1\" >0</td>\n",
       "    </tr>\n",
       "    <tr>\n",
       "      <td id=\"T_36bdf_row1_col0\" class=\"data row1 col0\" >0</td>\n",
       "      <td id=\"T_36bdf_row1_col1\" class=\"data row1 col1\" >1</td>\n",
       "    </tr>\n",
       "    <tr>\n",
       "      <td id=\"T_36bdf_row2_col0\" class=\"data row2 col0\" >0</td>\n",
       "      <td id=\"T_36bdf_row2_col1\" class=\"data row2 col1\" >0</td>\n",
       "    </tr>\n",
       "    <tr>\n",
       "      <td id=\"T_36bdf_row3_col0\" class=\"data row3 col0\" >0</td>\n",
       "      <td id=\"T_36bdf_row3_col1\" class=\"data row3 col1\" >0</td>\n",
       "    </tr>\n",
       "    <tr>\n",
       "      <td id=\"T_36bdf_row4_col0\" class=\"data row4 col0\" >0</td>\n",
       "      <td id=\"T_36bdf_row4_col1\" class=\"data row4 col1\" >0</td>\n",
       "    </tr>\n",
       "  </tbody>\n",
       "</table>\n"
      ],
      "text/plain": [
       "<pandas.io.formats.style.Styler at 0x1544d39d0>"
      ]
     },
     "execution_count": 13,
     "metadata": {},
     "output_type": "execute_result"
    }
   ],
   "source": [
    "# Make a prediction using the testing data\n",
    "testing_data_predictions = logistic_regression_model.predict(X_test)\n",
    "results = pd.DataFrame({\"Prediction\": testing_data_predictions, \"Actual\": y_test}).reset_index(drop=True)\n",
    "\n",
    "# Display the first few rows of the dataframe with relevant styling\n",
    "results.head().style.hide().set_table_styles([df_header_row])"
   ]
  },
  {
   "cell_type": "markdown",
   "metadata": {},
   "source": [
    "### Step 3: Evaluate the model’s performance by doing the following:\n",
    "\n",
    "* Generate a confusion matrix.\n",
    "\n",
    "* Print the classification report."
   ]
  },
  {
   "cell_type": "code",
   "execution_count": 14,
   "metadata": {
    "scrolled": true
   },
   "outputs": [
    {
     "data": {
      "text/html": [
       "<style type=\"text/css\">\n",
       "#T_8c0a5 th.col_heading {\n",
       "  background-color: bisque;\n",
       "}\n",
       "</style>\n",
       "<table id=\"T_8c0a5\">\n",
       "  <thead>\n",
       "    <tr>\n",
       "      <th id=\"T_8c0a5_level0_col0\" class=\"col_heading level0 col0\" >Predicted 0</th>\n",
       "      <th id=\"T_8c0a5_level0_col1\" class=\"col_heading level0 col1\" >Predicted 1</th>\n",
       "    </tr>\n",
       "  </thead>\n",
       "  <tbody>\n",
       "    <tr>\n",
       "      <td id=\"T_8c0a5_row0_col0\" class=\"data row0 col0\" >18679</td>\n",
       "      <td id=\"T_8c0a5_row0_col1\" class=\"data row0 col1\" >80</td>\n",
       "    </tr>\n",
       "    <tr>\n",
       "      <td id=\"T_8c0a5_row1_col0\" class=\"data row1 col0\" >67</td>\n",
       "      <td id=\"T_8c0a5_row1_col1\" class=\"data row1 col1\" >558</td>\n",
       "    </tr>\n",
       "  </tbody>\n",
       "</table>\n"
      ],
      "text/plain": [
       "<pandas.io.formats.style.Styler at 0x152ca3820>"
      ]
     },
     "metadata": {},
     "output_type": "display_data"
    }
   ],
   "source": [
    "# Generate a confusion matrix for the model\n",
    "testing_matrix_model = confusion_matrix(y_test, testing_data_predictions)\n",
    "testing_matrix_model_df = pd.DataFrame(\n",
    "    testing_matrix_model, columns=[\"Predicted 0\", \"Predicted 1\"]\n",
    ")\n",
    "\n",
    "# Display the confusion matrix with relevant styling\n",
    "display(testing_matrix_model_df.style.hide().set_table_styles([df_header_row]))"
   ]
  },
  {
   "cell_type": "code",
   "execution_count": 15,
   "metadata": {},
   "outputs": [
    {
     "name": "stdout",
     "output_type": "stream",
     "text": [
      "-------------------------\n",
      "\n",
      "Classification Report\n",
      "-------------------------\n",
      "\n",
      "                precision    recall  f1-score   support\n",
      "\n",
      "  healthy loan       1.00      1.00      1.00     18759\n",
      "high-risk loan       0.87      0.89      0.88       625\n",
      "\n",
      "      accuracy                           0.99     19384\n",
      "     macro avg       0.94      0.94      0.94     19384\n",
      "  weighted avg       0.99      0.99      0.99     19384\n",
      "\n"
     ]
    }
   ],
   "source": [
    "# Print the classification report for the model\n",
    "print(\"-------------------------\\n\")\n",
    "print(\"Classification Report\")\n",
    "print(\"-------------------------\\n\")\n",
    "target_names = [\"healthy loan\",\"high-risk loan\"]\n",
    "print(classification_report(y_test, testing_data_predictions, target_names = target_names))"
   ]
  },
  {
   "cell_type": "markdown",
   "metadata": {},
   "source": [
    "### Step 4: Answer the following question."
   ]
  },
  {
   "cell_type": "markdown",
   "metadata": {},
   "source": [
    "**Question:** How well does the logistic regression model predict both the `0` (healthy loan) and `1` (high-risk loan) labels?\n",
    "\n",
    "**Answer:**\n",
    "\n",
    "1) Precision measures the proportion of correctly predicted instances out of the total predicted instances for a specific label. For the *healthy loan* class, the precision is 1.00, indicating that the model predicts this label with perfect precision. For the *high-risk loan* class, the precision is 0.87, meaning that 87% of the predicted high-risk loans are correct.\n",
    "\n",
    "2) Recall, also known as sensitivity or true positive rate, measures the proportion of correctly predicted instances out of the total actual instances for a specific label. The recall for the *healthy loan* class is 1.00, indicating that the model captures all the actual healthy loans. The recall for the *high-risk loan* class is 0.89, meaning that the model identifies 89% of the high-risk loans correctly.\n",
    "\n",
    "3) The F1-score is the mean of precision and recall and provides a balanced measure of the model's performance. For the *healthy loan* class, the F1-score is 1.00, indicating perfect performance. The F1-score for the *high-risk loan* class is 0.88, representing a good balance between precision and recall for this label.\n",
    "\n",
    "Based on the above accuracy score of 99%, this model performs exceptionally well.\n",
    "\n"
   ]
  }
 ],
 "metadata": {
  "kernelspec": {
   "display_name": "Python 3 (ipykernel)",
   "language": "python",
   "name": "python3"
  },
  "language_info": {
   "codemirror_mode": {
    "name": "ipython",
    "version": 3
   },
   "file_extension": ".py",
   "mimetype": "text/x-python",
   "name": "python",
   "nbconvert_exporter": "python",
   "pygments_lexer": "ipython3",
   "version": "3.10.13"
  },
  "vscode": {
   "interpreter": {
    "hash": "31f2aee4e71d21fbe5cf8b01ff0e069b9275f58929596ceb00d14d90e3e16cd6"
   }
  }
 },
 "nbformat": 4,
 "nbformat_minor": 4
}
